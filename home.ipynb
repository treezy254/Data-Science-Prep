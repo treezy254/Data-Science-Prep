{
  "nbformat": 4,
  "nbformat_minor": 0,
  "metadata": {
    "colab": {
      "provenance": [],
      "authorship_tag": "ABX9TyPQgJlETV2t3N6zdNFafzPo",
      "include_colab_link": true
    },
    "kernelspec": {
      "name": "python3",
      "display_name": "Python 3"
    },
    "language_info": {
      "name": "python"
    }
  },
  "cells": [
    {
      "cell_type": "markdown",
      "metadata": {
        "id": "view-in-github",
        "colab_type": "text"
      },
      "source": [
        "<a href=\"https://colab.research.google.com/github/treezy254/Data-Science-Prep/blob/master/home.ipynb\" target=\"_parent\"><img src=\"https://colab.research.google.com/assets/colab-badge.svg\" alt=\"Open In Colab\"/></a>"
      ]
    },
    {
      "cell_type": "code",
      "execution_count": 55,
      "metadata": {
        "id": "W5EqgZ8x9d3F"
      },
      "outputs": [],
      "source": [
        "import os\n",
        "import pandas as pd\n",
        "from sklearn.model_selection import train_test_split\n",
        "\n",
        "X_full = pd.read_csv('train.csv', index_col=\"Id\")\n",
        "X_test_full = pd.read_csv('test.csv', index_col='Id')\n",
        "\n",
        "# y = X_full.SalePrice\n",
        "# X_full.head()\n",
        "# features = ['LotArea', 'YearBuilt', '1stFlrSF', '2ndFlrSF', 'FullBath', 'BedroomAbvGr', 'TotRmsAbvGrd']\n",
        "# X = X_full[features].copy()\n",
        "# X_test = X_test_full[features].copy()\n",
        "\n",
        "# Remove rows with missing target, separate target from predictors\n",
        "X_full.dropna(axis=0, subset=['SalePrice'], inplace=True)\n",
        "y = X_full.SalePrice\n",
        "X_full.drop(['SalePrice'], axis=1, inplace=True)\n",
        "\n",
        "# To keep things simple, we'll use only numerical predictors\n",
        "X = X_full.select_dtypes(exclude=['object'])\n",
        "X_test = X_test_full.select_dtypes(exclude=['object'])\n",
        "\n",
        "X_train, X_valid, y_train, y_valid = train_test_split(X, y, train_size=0.8, test_size=0.2,  random_state=0)"
      ]
    },
    {
      "cell_type": "code",
      "source": [
        "X_train.head"
      ],
      "metadata": {
        "colab": {
          "base_uri": "https://localhost:8080/"
        },
        "id": "RhsBYRCcAEey",
        "outputId": "906ef232-2690-4df1-812e-1d19af1e8b92"
      },
      "execution_count": 56,
      "outputs": [
        {
          "output_type": "execute_result",
          "data": {
            "text/plain": [
              "<bound method NDFrame.head of       MSSubClass  LotFrontage  LotArea  OverallQual  OverallCond  YearBuilt  \\\n",
              "Id                                                                            \n",
              "619           20         90.0    11694            9            5       2007   \n",
              "871           20         60.0     6600            5            5       1962   \n",
              "93            30         80.0    13360            5            7       1921   \n",
              "818           20          NaN    13265            8            5       2002   \n",
              "303           20        118.0    13704            7            5       2001   \n",
              "...          ...          ...      ...          ...          ...        ...   \n",
              "764           60         82.0     9430            8            5       1999   \n",
              "836           20         60.0     9600            4            7       1950   \n",
              "1217          90         68.0     8930            6            5       1978   \n",
              "560          120          NaN     3196            7            5       2003   \n",
              "685           60         58.0    16770            7            5       1998   \n",
              "\n",
              "      YearRemodAdd  MasVnrArea  BsmtFinSF1  BsmtFinSF2  ...  GarageArea  \\\n",
              "Id                                                      ...               \n",
              "619           2007       452.0          48           0  ...         774   \n",
              "871           1962         0.0           0           0  ...         308   \n",
              "93            2006         0.0         713           0  ...         432   \n",
              "818           2002       148.0        1218           0  ...         857   \n",
              "303           2002       150.0           0           0  ...         843   \n",
              "...            ...         ...         ...         ...  ...         ...   \n",
              "764           1999       673.0        1163           0  ...         856   \n",
              "836           1995         0.0         442           0  ...         436   \n",
              "1217          1978         0.0           0           0  ...         539   \n",
              "560           2004        18.0           0           0  ...         420   \n",
              "685           1998        30.0           0           0  ...         486   \n",
              "\n",
              "      WoodDeckSF  OpenPorchSF  EnclosedPorch  3SsnPorch  ScreenPorch  \\\n",
              "Id                                                                     \n",
              "619            0          108              0          0          260   \n",
              "871            0            0              0          0            0   \n",
              "93             0            0             44          0            0   \n",
              "818          150           59              0          0            0   \n",
              "303          468           81              0          0            0   \n",
              "...          ...          ...            ...        ...          ...   \n",
              "764            0          128              0          0          180   \n",
              "836          290            0              0          0            0   \n",
              "1217           0            0              0          0            0   \n",
              "560          143           20              0          0            0   \n",
              "685            0           81              0          0            0   \n",
              "\n",
              "      PoolArea  MiscVal  MoSold  YrSold  \n",
              "Id                                       \n",
              "619          0        0       7    2007  \n",
              "871          0        0       8    2009  \n",
              "93           0        0       8    2009  \n",
              "818          0        0       7    2008  \n",
              "303          0        0       1    2006  \n",
              "...        ...      ...     ...     ...  \n",
              "764          0        0       7    2009  \n",
              "836          0        0       2    2010  \n",
              "1217         0        0       4    2010  \n",
              "560          0        0      10    2006  \n",
              "685          0        0       6    2010  \n",
              "\n",
              "[1168 rows x 36 columns]>"
            ]
          },
          "metadata": {},
          "execution_count": 56
        }
      ]
    },
    {
      "cell_type": "markdown",
      "source": [
        "## Preliminary Investigation"
      ],
      "metadata": {
        "id": "qkBkgdU1G2PZ"
      }
    },
    {
      "cell_type": "code",
      "source": [
        "X_train.shape\n",
        "\n",
        "missing_val_count_by_column = (X_train.isnull().sum())\n",
        "print(missing_val_count_by_column[missing_val_count_by_column > 0])"
      ],
      "metadata": {
        "colab": {
          "base_uri": "https://localhost:8080/"
        },
        "id": "TZS4J_dvG1Pi",
        "outputId": "77492f1f-f8a0-41ba-d5e1-5fd80e563690"
      },
      "execution_count": 59,
      "outputs": [
        {
          "output_type": "stream",
          "name": "stdout",
          "text": [
            "LotFrontage    212\n",
            "MasVnrArea       6\n",
            "GarageYrBlt     58\n",
            "dtype: int64\n"
          ]
        }
      ]
    },
    {
      "cell_type": "code",
      "source": [
        "from sklearn.ensemble import RandomForestRegressor\n",
        "\n",
        "model_1 = RandomForestRegressor(n_estimators=50, random_state=0)\n",
        "model_2 = RandomForestRegressor(n_estimators=100, random_state=0)\n",
        "model_3 = RandomForestRegressor(n_estimators=100, criterion='absolute_error', random_state=0)\n",
        "model_4 = RandomForestRegressor(n_estimators=200, min_samples_split=20, random_state=0)\n",
        "model_5 = RandomForestRegressor(n_estimators=300, criterion='absolute_error', max_depth=10, random_state=0)\n",
        "\n",
        "models = [model_1, model_2, model_3, model_4, model_5]"
      ],
      "metadata": {
        "id": "S8ZAsG1wBCoT"
      },
      "execution_count": 60,
      "outputs": []
    },
    {
      "cell_type": "code",
      "source": [
        "# from sklearn.metrics import mean_absolute_error\n",
        "\n",
        "# def score_model(model, X_t=X_train, X_v=X_valid, y_t= y_train, y_v=y_valid):\n",
        "#   model.fit(X_t, y_t)\n",
        "#   preds = model.predict(X_v)\n",
        "#   return mean_absolute_error(y_v, preds)\n",
        "\n",
        "# for i in range(0, len(models)):\n",
        "#   mae = score_model(models[i])\n",
        "#   print(\"Model %d MAE: %d\" % (i+1, mae))"
      ],
      "metadata": {
        "id": "ngtRaTyYD5Gv"
      },
      "execution_count": 62,
      "outputs": []
    },
    {
      "cell_type": "code",
      "source": [
        "best_model = model_5"
      ],
      "metadata": {
        "id": "G2QxI2LDEj8S"
      },
      "execution_count": 63,
      "outputs": []
    },
    {
      "cell_type": "code",
      "source": [
        "from sklearn.metrics import mean_absolute_error\n",
        "\n",
        "def score_dataset(X_train, X_valid, y_train, y_valid):\n",
        "  model = RandomForestRegressor(n_estimators=300, criterion='absolute_error', max_depth=10, random_state=0)\n",
        "  model.fit(X_train, y_train)\n",
        "  preds = model.predict(X_valid)\n",
        "  return mean_absolute_error(y_valid, preds)"
      ],
      "metadata": {
        "id": "exxb6TfpF0Oj"
      },
      "execution_count": 65,
      "outputs": []
    },
    {
      "cell_type": "markdown",
      "source": [
        "## Dropping columns with missing values"
      ],
      "metadata": {
        "id": "w8uRJQ4uI1cc"
      }
    },
    {
      "cell_type": "code",
      "source": [
        "col_with_missing = [col for col in X_train.columns if X_train[col].isnull().any()]\n",
        "\n",
        "reduced_X_train = X_train.drop(col_with_missing, axis=1)\n",
        "reduced_X_valid = X_valid.drop(col_with_missing, axis=1)"
      ],
      "metadata": {
        "id": "KgjwN0s9GD-X"
      },
      "execution_count": 66,
      "outputs": []
    },
    {
      "cell_type": "markdown",
      "source": [
        "## Imputation"
      ],
      "metadata": {
        "id": "7nX3PRqXJVwq"
      }
    },
    {
      "cell_type": "code",
      "source": [
        "from sklearn.impute import SimpleImputer\n",
        "\n",
        "my_imputer = SimpleImputer()\n",
        "imputed_X_train = pd.DataFrame(my_imputer.fit_transform(X_train))\n",
        "imputed_X_valid = pd.DataFrame(my_imputer.transform(X_valid))\n",
        "\n",
        "imputed_X_train.columns = X_train.columns\n",
        "imputed_X_valid.columns = X_valid.columns\n",
        "\n",
        "model = RandomForestRegressor(n_estimators=100, criterion='absolute_error', max_depth=10, random_state=0)\n",
        "model.fit(imputed_X_train, y_train)"
      ],
      "metadata": {
        "colab": {
          "base_uri": "https://localhost:8080/"
        },
        "id": "2-RflAv5Gi1W",
        "outputId": "f641ba0e-a5b4-4586-b6dc-fd8e66e97a97"
      },
      "execution_count": 71,
      "outputs": [
        {
          "output_type": "execute_result",
          "data": {
            "text/plain": [
              "RandomForestRegressor(criterion='absolute_error', max_depth=10, random_state=0)"
            ]
          },
          "metadata": {},
          "execution_count": 71
        }
      ]
    },
    {
      "cell_type": "code",
      "source": [
        "print(\"MAE Imputation:\")\n",
        "print(score_dataset(imputed_X_train, imputed_X_valid, y_train, y_valid))"
      ],
      "metadata": {
        "colab": {
          "base_uri": "https://localhost:8080/"
        },
        "id": "oxea88SzJ5wO",
        "outputId": "30fadf16-cd95-4fca-b9c5-1a4a077aeb34"
      },
      "execution_count": 72,
      "outputs": [
        {
          "output_type": "stream",
          "name": "stdout",
          "text": [
            "MAE Imputation:\n",
            "18017.300005707762\n"
          ]
        }
      ]
    },
    {
      "cell_type": "code",
      "source": [
        "final_X_test = pd.DataFrame(my_imputer.transform(X_test))\n",
        "preds_test = model.predict(final_X_test)"
      ],
      "metadata": {
        "colab": {
          "base_uri": "https://localhost:8080/"
        },
        "id": "mwtxpiUCKHb2",
        "outputId": "2f63d49b-a44d-4bfa-8073-fd22996b4dcb"
      },
      "execution_count": 73,
      "outputs": [
        {
          "output_type": "stream",
          "name": "stderr",
          "text": [
            "/usr/local/lib/python3.8/dist-packages/sklearn/base.py:450: UserWarning: X does not have valid feature names, but RandomForestRegressor was fitted with feature names\n",
            "  warnings.warn(\n"
          ]
        }
      ]
    },
    {
      "cell_type": "code",
      "source": [
        "output = pd.DataFrame(({'Id': X_test.index, 'SalePrice': preds_test}))\n",
        "output.to_csv('submission2.csv', index=False)"
      ],
      "metadata": {
        "id": "Q95gpeuFMVXc"
      },
      "execution_count": 70,
      "outputs": []
    },
    {
      "cell_type": "code",
      "source": [
        "mine = pd.read_csv('submission2.csv')\n",
        "mine.head()"
      ],
      "metadata": {
        "colab": {
          "base_uri": "https://localhost:8080/",
          "height": 206
        },
        "id": "cWdlGuw0Mmbq",
        "outputId": "4db01917-05a5-4cd0-af3b-c658fb816c27"
      },
      "execution_count": 74,
      "outputs": [
        {
          "output_type": "execute_result",
          "data": {
            "text/plain": [
              "     Id      SalePrice\n",
              "0  1461  122950.250000\n",
              "1  1462  159904.958333\n",
              "2  1463  181779.861667\n",
              "3  1464  180106.956667\n",
              "4  1465  190867.298333"
            ],
            "text/html": [
              "\n",
              "  <div id=\"df-6a4af7de-c5d3-428e-9530-aefafe5e5aec\">\n",
              "    <div class=\"colab-df-container\">\n",
              "      <div>\n",
              "<style scoped>\n",
              "    .dataframe tbody tr th:only-of-type {\n",
              "        vertical-align: middle;\n",
              "    }\n",
              "\n",
              "    .dataframe tbody tr th {\n",
              "        vertical-align: top;\n",
              "    }\n",
              "\n",
              "    .dataframe thead th {\n",
              "        text-align: right;\n",
              "    }\n",
              "</style>\n",
              "<table border=\"1\" class=\"dataframe\">\n",
              "  <thead>\n",
              "    <tr style=\"text-align: right;\">\n",
              "      <th></th>\n",
              "      <th>Id</th>\n",
              "      <th>SalePrice</th>\n",
              "    </tr>\n",
              "  </thead>\n",
              "  <tbody>\n",
              "    <tr>\n",
              "      <th>0</th>\n",
              "      <td>1461</td>\n",
              "      <td>122950.250000</td>\n",
              "    </tr>\n",
              "    <tr>\n",
              "      <th>1</th>\n",
              "      <td>1462</td>\n",
              "      <td>159904.958333</td>\n",
              "    </tr>\n",
              "    <tr>\n",
              "      <th>2</th>\n",
              "      <td>1463</td>\n",
              "      <td>181779.861667</td>\n",
              "    </tr>\n",
              "    <tr>\n",
              "      <th>3</th>\n",
              "      <td>1464</td>\n",
              "      <td>180106.956667</td>\n",
              "    </tr>\n",
              "    <tr>\n",
              "      <th>4</th>\n",
              "      <td>1465</td>\n",
              "      <td>190867.298333</td>\n",
              "    </tr>\n",
              "  </tbody>\n",
              "</table>\n",
              "</div>\n",
              "      <button class=\"colab-df-convert\" onclick=\"convertToInteractive('df-6a4af7de-c5d3-428e-9530-aefafe5e5aec')\"\n",
              "              title=\"Convert this dataframe to an interactive table.\"\n",
              "              style=\"display:none;\">\n",
              "        \n",
              "  <svg xmlns=\"http://www.w3.org/2000/svg\" height=\"24px\"viewBox=\"0 0 24 24\"\n",
              "       width=\"24px\">\n",
              "    <path d=\"M0 0h24v24H0V0z\" fill=\"none\"/>\n",
              "    <path d=\"M18.56 5.44l.94 2.06.94-2.06 2.06-.94-2.06-.94-.94-2.06-.94 2.06-2.06.94zm-11 1L8.5 8.5l.94-2.06 2.06-.94-2.06-.94L8.5 2.5l-.94 2.06-2.06.94zm10 10l.94 2.06.94-2.06 2.06-.94-2.06-.94-.94-2.06-.94 2.06-2.06.94z\"/><path d=\"M17.41 7.96l-1.37-1.37c-.4-.4-.92-.59-1.43-.59-.52 0-1.04.2-1.43.59L10.3 9.45l-7.72 7.72c-.78.78-.78 2.05 0 2.83L4 21.41c.39.39.9.59 1.41.59.51 0 1.02-.2 1.41-.59l7.78-7.78 2.81-2.81c.8-.78.8-2.07 0-2.86zM5.41 20L4 18.59l7.72-7.72 1.47 1.35L5.41 20z\"/>\n",
              "  </svg>\n",
              "      </button>\n",
              "      \n",
              "  <style>\n",
              "    .colab-df-container {\n",
              "      display:flex;\n",
              "      flex-wrap:wrap;\n",
              "      gap: 12px;\n",
              "    }\n",
              "\n",
              "    .colab-df-convert {\n",
              "      background-color: #E8F0FE;\n",
              "      border: none;\n",
              "      border-radius: 50%;\n",
              "      cursor: pointer;\n",
              "      display: none;\n",
              "      fill: #1967D2;\n",
              "      height: 32px;\n",
              "      padding: 0 0 0 0;\n",
              "      width: 32px;\n",
              "    }\n",
              "\n",
              "    .colab-df-convert:hover {\n",
              "      background-color: #E2EBFA;\n",
              "      box-shadow: 0px 1px 2px rgba(60, 64, 67, 0.3), 0px 1px 3px 1px rgba(60, 64, 67, 0.15);\n",
              "      fill: #174EA6;\n",
              "    }\n",
              "\n",
              "    [theme=dark] .colab-df-convert {\n",
              "      background-color: #3B4455;\n",
              "      fill: #D2E3FC;\n",
              "    }\n",
              "\n",
              "    [theme=dark] .colab-df-convert:hover {\n",
              "      background-color: #434B5C;\n",
              "      box-shadow: 0px 1px 3px 1px rgba(0, 0, 0, 0.15);\n",
              "      filter: drop-shadow(0px 1px 2px rgba(0, 0, 0, 0.3));\n",
              "      fill: #FFFFFF;\n",
              "    }\n",
              "  </style>\n",
              "\n",
              "      <script>\n",
              "        const buttonEl =\n",
              "          document.querySelector('#df-6a4af7de-c5d3-428e-9530-aefafe5e5aec button.colab-df-convert');\n",
              "        buttonEl.style.display =\n",
              "          google.colab.kernel.accessAllowed ? 'block' : 'none';\n",
              "\n",
              "        async function convertToInteractive(key) {\n",
              "          const element = document.querySelector('#df-6a4af7de-c5d3-428e-9530-aefafe5e5aec');\n",
              "          const dataTable =\n",
              "            await google.colab.kernel.invokeFunction('convertToInteractive',\n",
              "                                                     [key], {});\n",
              "          if (!dataTable) return;\n",
              "\n",
              "          const docLinkHtml = 'Like what you see? Visit the ' +\n",
              "            '<a target=\"_blank\" href=https://colab.research.google.com/notebooks/data_table.ipynb>data table notebook</a>'\n",
              "            + ' to learn more about interactive tables.';\n",
              "          element.innerHTML = '';\n",
              "          dataTable['output_type'] = 'display_data';\n",
              "          await google.colab.output.renderOutput(dataTable, element);\n",
              "          const docLink = document.createElement('div');\n",
              "          docLink.innerHTML = docLinkHtml;\n",
              "          element.appendChild(docLink);\n",
              "        }\n",
              "      </script>\n",
              "    </div>\n",
              "  </div>\n",
              "  "
            ]
          },
          "metadata": {},
          "execution_count": 74
        }
      ]
    },
    {
      "cell_type": "code",
      "source": [
        "y.head()"
      ],
      "metadata": {
        "colab": {
          "base_uri": "https://localhost:8080/"
        },
        "id": "g8xLVnP_NHgk",
        "outputId": "68545d8e-30a2-4aa7-db52-15e3f6e095f7"
      },
      "execution_count": 75,
      "outputs": [
        {
          "output_type": "execute_result",
          "data": {
            "text/plain": [
              "Id\n",
              "1    208500\n",
              "2    181500\n",
              "3    223500\n",
              "4    140000\n",
              "5    250000\n",
              "Name: SalePrice, dtype: int64"
            ]
          },
          "metadata": {},
          "execution_count": 75
        }
      ]
    },
    {
      "cell_type": "code",
      "source": [],
      "metadata": {
        "id": "6GJXXaAhNLhR"
      },
      "execution_count": null,
      "outputs": []
    }
  ]
}