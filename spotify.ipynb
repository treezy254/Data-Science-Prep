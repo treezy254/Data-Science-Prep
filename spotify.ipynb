{
  "nbformat": 4,
  "nbformat_minor": 0,
  "metadata": {
    "colab": {
      "provenance": [],
      "authorship_tag": "ABX9TyN3gzRgUTOZdOmzLiVJHj6N",
      "include_colab_link": true
    },
    "kernelspec": {
      "name": "python3",
      "display_name": "Python 3"
    },
    "language_info": {
      "name": "python"
    }
  },
  "cells": [
    {
      "cell_type": "markdown",
      "metadata": {
        "id": "view-in-github",
        "colab_type": "text"
      },
      "source": [
        "<a href=\"https://colab.research.google.com/github/treezy254/Data-Science-Prep/blob/master/spotify.ipynb\" target=\"_parent\"><img src=\"https://colab.research.google.com/assets/colab-badge.svg\" alt=\"Open In Colab\"/></a>"
      ]
    },
    {
      "cell_type": "code",
      "execution_count": 1,
      "metadata": {
        "id": "bYplN-ZtXHf6"
      },
      "outputs": [],
      "source": [
        "import matplotlib.pyplot as plt\n",
        "\n",
        "plt.style.use('seaborn-whitegrid')\n",
        "# Set Matplotlib defaults\n",
        "plt.rc('figure', autolayout=True)\n",
        "plt.rc('axes', labelweight='bold', labelsize='large',\n",
        "       titleweight='bold', titlesize=18, titlepad=10)\n",
        "plt.rc('animation', html='html5')\n"
      ]
    },
    {
      "cell_type": "code",
      "source": [
        "import pandas as pd\n",
        "import numpy as np \n",
        "\n",
        "from sklearn.preprocessing import StandardScaler, OneHotEncoder\n",
        "from sklearn.compose import make_column_transformer\n",
        "from sklearn.model_selection import GroupShuffleSplit\n",
        "\n",
        "from tensorflow import keras\n",
        "from tensorflow.keras import layers, callbacks"
      ],
      "metadata": {
        "id": "LJ8xzFcyaBfu"
      },
      "execution_count": 2,
      "outputs": []
    },
    {
      "cell_type": "code",
      "source": [
        "spotify = pd.read_csv('spotify.csv')\n",
        "X = spotify.copy().dropna()\n",
        "y = X.pop('track_popularity')\n",
        "artists = X['track_artist']\n",
        "\n",
        "features_num = ['danceability', 'energy', 'key', 'loudness', 'mode',\n",
        "                'speechiness', 'acousticness', 'instrumentalness',\n",
        "                'liveness', 'valence', 'tempo', 'duration_ms']\n",
        "features_cat = ['playlist_genre']\n",
        "\n",
        "preprocessor = make_column_transformer(\n",
        "    (StandardScaler(), features_num),\n",
        "    (OneHotEncoder(), features_cat)\n",
        ")\n",
        "\n",
        "# We'll do a \"grouped\" split to keep all of an artist's songs in one\n",
        "# split or the other. This is to help prevent signal leakage.\n",
        "\n",
        "def group_split(X, y, group, train_size=0.75):\n",
        "  splitter = GroupShuffleSplit(train_size=train_size)\n",
        "  train, test = next(splitter.split(X, y, groups=group))\n",
        "  return (X.iloc[train], X.iloc[test], y.iloc[train], y.iloc[test])\n",
        "\n",
        "X_train, X_valid, y_train, y_valid = group_split(X, y, artists)\n",
        "\n",
        "X_train = preprocessor.fit_transform(X_train)\n",
        "X_valid = preprocessor.fit_transform(X_valid)\n",
        "y_train = y_train/100\n",
        "y_valid = y_valid/100\n",
        "\n",
        "input_shape = [X_train.shape[1]]\n",
        "print(\"Input shape: {}\".format(input_shape))"
      ],
      "metadata": {
        "colab": {
          "base_uri": "https://localhost:8080/"
        },
        "id": "q4U-Is83adel",
        "outputId": "20f00d14-452f-451f-e056-39040a289403"
      },
      "execution_count": 4,
      "outputs": [
        {
          "output_type": "stream",
          "name": "stdout",
          "text": [
            "Input shape: [18]\n"
          ]
        }
      ]
    },
    {
      "cell_type": "code",
      "source": [
        "from tensorflow.keras import callbacks\n",
        "\n",
        "early_stopping = callbacks.EarlyStopping(\n",
        "    min_delta=0.001,\n",
        "    patience = 5,\n",
        "    restore_best_weights = True,\n",
        ")"
      ],
      "metadata": {
        "id": "u2P9j4ANfTKy"
      },
      "execution_count": 8,
      "outputs": []
    },
    {
      "cell_type": "code",
      "source": [
        "model = keras.Sequential([\n",
        "    layers.Dense(128, activation='relu', input_shape=input_shape),\n",
        "    layers.Dense(64, activation='relu'),\n",
        "    layers.Dense(1),\n",
        "])\n",
        "\n",
        "model.compile(\n",
        "    optimizer='adam',\n",
        "    loss='mae'\n",
        ")\n",
        "\n",
        "history = model.fit(\n",
        "    X_train, y_train,\n",
        "    validation_data = (X_valid, y_valid),\n",
        "    batch_size=512,\n",
        "    epochs = 50,\n",
        "    callbacks = [early_stopping]\n",
        ")\n",
        "\n",
        "\n",
        "history_df = pd.DataFrame(history.history)\n",
        "history_df.loc[:, ['loss', 'val_loss']].plot()\n",
        "\n",
        "print(\"Minimum Validation Loss: {:0.4f}\".format(history_df['val_loss'].min()))\n",
        "\n"
      ],
      "metadata": {
        "colab": {
          "base_uri": "https://localhost:8080/",
          "height": 696
        },
        "id": "wihxfVY0cu_Y",
        "outputId": "914e25cd-dad1-435a-9c69-3acf1f7f7bbb"
      },
      "execution_count": 9,
      "outputs": [
        {
          "output_type": "stream",
          "name": "stdout",
          "text": [
            "Epoch 1/50\n",
            "48/48 [==============================] - 1s 10ms/step - loss: 0.2200 - val_loss: 0.2083\n",
            "Epoch 2/50\n",
            "48/48 [==============================] - 0s 6ms/step - loss: 0.1953 - val_loss: 0.2044\n",
            "Epoch 3/50\n",
            "48/48 [==============================] - 0s 6ms/step - loss: 0.1911 - val_loss: 0.2046\n",
            "Epoch 4/50\n",
            "48/48 [==============================] - 0s 7ms/step - loss: 0.1896 - val_loss: 0.2036\n",
            "Epoch 5/50\n",
            "48/48 [==============================] - 0s 9ms/step - loss: 0.1878 - val_loss: 0.2032\n",
            "Epoch 6/50\n",
            "48/48 [==============================] - 0s 9ms/step - loss: 0.1859 - val_loss: 0.2021\n",
            "Epoch 7/50\n",
            "48/48 [==============================] - 0s 10ms/step - loss: 0.1841 - val_loss: 0.2032\n",
            "Epoch 8/50\n",
            "48/48 [==============================] - 0s 9ms/step - loss: 0.1831 - val_loss: 0.2019\n",
            "Epoch 9/50\n",
            "48/48 [==============================] - 0s 10ms/step - loss: 0.1827 - val_loss: 0.2014\n",
            "Epoch 10/50\n",
            "48/48 [==============================] - 0s 9ms/step - loss: 0.1813 - val_loss: 0.2019\n",
            "Epoch 11/50\n",
            "48/48 [==============================] - 0s 6ms/step - loss: 0.1807 - val_loss: 0.2023\n",
            "Minimum Validation Loss: 0.2014\n"
          ]
        },
        {
          "output_type": "display_data",
          "data": {
            "text/plain": [
              "<Figure size 432x288 with 1 Axes>"
            ],
            "image/png": "[encoded data removed]"
          },
          "metadata": {}
        }
      ]
    },
    {
      "cell_type": "code",
      "source": [],
      "metadata": {
        "id": "coDfCNVjfN0M"
      },
      "execution_count": null,
      "outputs": []
    }
  ]
}